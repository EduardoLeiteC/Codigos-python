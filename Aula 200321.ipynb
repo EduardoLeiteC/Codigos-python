{
 "cells": [
  {
   "cell_type": "code",
   "execution_count": 51,
   "metadata": {},
   "outputs": [],
   "source": [
    "#Classe e objeto\n",
    "\n",
    "#Objeto : representa um modelo de codigo\n",
    "#classe : \n",
    "class humanos():\n",
    "    cor_olhos = \"castanho\"\n",
    "    cor_pele =\"branco\"\n",
    "    cor_cabelo =\"preto\"\n",
    "    altura =\"1.80\"\n",
    "    nome=\"wesley\"\n",
    "    def caracteristicashumanas(self):\n",
    "        return \"caracteristicashuman:\"+self.cor_olhos+\",\"+self.altura+\",\"+self.cor_pele  "
   ]
  },
  {
   "cell_type": "code",
   "execution_count": 30,
   "metadata": {},
   "outputs": [
    {
     "name": "stdout",
     "output_type": "stream",
     "text": [
      "1.80\n",
      "castanho\n",
      "branco\n",
      "preto\n",
      "wesley\n"
     ]
    }
   ],
   "source": [
    "hum= humanos()\n",
    "print(hum.altura)\n",
    "print(hum.cor_olhos)\n",
    "print(hum.cor_pele)\n",
    "print(hum.cor_cabelo)\n",
    "print(hum.nome)"
   ]
  },
  {
   "cell_type": "code",
   "execution_count": 3,
   "metadata": {},
   "outputs": [],
   "source": [
    "class humanos1():\n",
    "    def __init__(self, cor_olhos, cor_pele, altura):\n",
    "        self.cor_olhos= cor_olhos\n",
    "        self.cor_pele= cor_pele\n",
    "        self.altura= altura\n",
    "    def caracteristicashumanas(self):\n",
    "        return \"caracteristicashumanos:\"+self.cor_olhos+\",\"+self.altura+\",\"+self.cor_pele  \n",
    "    "
   ]
  },
  {
   "cell_type": "code",
   "execution_count": 44,
   "metadata": {},
   "outputs": [
    {
     "name": "stdout",
     "output_type": "stream",
     "text": [
      "verde\n",
      "1.80\n",
      "branco\n",
      "\n",
      "azul\n",
      "2.50\n",
      "negro\n"
     ]
    }
   ],
   "source": [
    "humano=humanos1(cor_olhos=\"verde\", cor_pele=\"branco\", altura=\"1.80\")\n",
    "humano2=humanos1(cor_olhos=\"azul\", cor_pele=\"negro\", altura=\"2.50\")\n",
    "print(humano.cor_olhos)\n",
    "print(humano.altura)\n",
    "print(humano.cor_pele)\n",
    "print(\"\")\n",
    "print(humano2.cor_olhos)\n",
    "print(humano2.altura)\n",
    "print(humano2.cor_pele)\n"
   ]
  },
  {
   "cell_type": "code",
   "execution_count": 35,
   "metadata": {},
   "outputs": [],
   "source": [
    "class A():\n",
    "    b=20"
   ]
  },
  {
   "cell_type": "code",
   "execution_count": 36,
   "metadata": {},
   "outputs": [],
   "source": [
    "class B(A):\n",
    "    c = 1"
   ]
  },
  {
   "cell_type": "code",
   "execution_count": 37,
   "metadata": {},
   "outputs": [],
   "source": [
    "class CC (B):\n",
    "    d = 2"
   ]
  },
  {
   "cell_type": "code",
   "execution_count": 40,
   "metadata": {},
   "outputs": [
    {
     "name": "stdout",
     "output_type": "stream",
     "text": [
      "20\n"
     ]
    }
   ],
   "source": [
    "bb = B()\n",
    "print(classe.b)"
   ]
  },
  {
   "cell_type": "code",
   "execution_count": 39,
   "metadata": {},
   "outputs": [
    {
     "name": "stdout",
     "output_type": "stream",
     "text": [
      "1\n"
     ]
    }
   ],
   "source": [
    "aa= CC()\n",
    "print(aa.c)"
   ]
  },
  {
   "cell_type": "code",
   "execution_count": 41,
   "metadata": {},
   "outputs": [
    {
     "name": "stdout",
     "output_type": "stream",
     "text": [
      "2\n"
     ]
    }
   ],
   "source": [
    "cc=CC()\n",
    "print(cc.d)"
   ]
  },
  {
   "cell_type": "code",
   "execution_count": null,
   "metadata": {},
   "outputs": [],
   "source": []
  }
 ],
 "metadata": {
  "kernelspec": {
   "display_name": "Python 3",
   "language": "python",
   "name": "python3"
  },
  "language_info": {
   "codemirror_mode": {
    "name": "ipython",
    "version": 3
   },
   "file_extension": ".py",
   "mimetype": "text/x-python",
   "name": "python",
   "nbconvert_exporter": "python",
   "pygments_lexer": "ipython3",
   "version": "3.7.4"
  }
 },
 "nbformat": 4,
 "nbformat_minor": 2
}
