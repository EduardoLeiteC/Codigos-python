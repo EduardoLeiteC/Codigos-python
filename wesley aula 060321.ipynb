{
 "cells": [
  {
   "cell_type": "code",
   "execution_count": 1,
   "metadata": {},
   "outputs": [],
   "source": [
    "def wesley_18() :\n",
    "    print(\"wesley_18\")\n",
    "    print(\"Seja Bem Vindo\")"
   ]
  },
  {
   "cell_type": "code",
   "execution_count": 2,
   "metadata": {},
   "outputs": [
    {
     "name": "stdout",
     "output_type": "stream",
     "text": [
      "wesley_18\n",
      "Seja Bem Vindo\n"
     ]
    }
   ],
   "source": [
    "wesley_18()"
   ]
  },
  {
   "cell_type": "code",
   "execution_count": 6,
   "metadata": {},
   "outputs": [],
   "source": [
    "import math\n",
    "def bhaskara (a, b, c):\n",
    "    delta = (b*b) - (4*a*c)\n",
    "    x1= (-b + math.sqrt(delta))/(2*a)\n",
    "    x2= (-b - math.sqrt(delta))/(2*a)\n",
    "    print(x1)\n",
    "    print(x2)\n"
   ]
  },
  {
   "cell_type": "code",
   "execution_count": 26,
   "metadata": {},
   "outputs": [
    {
     "name": "stdout",
     "output_type": "stream",
     "text": [
      "3.0\n",
      "-2.0\n"
     ]
    }
   ],
   "source": [
    "bhaskara(1, -1, -6)"
   ]
  },
  {
   "cell_type": "code",
   "execution_count": 58,
   "metadata": {},
   "outputs": [
    {
     "name": "stdout",
     "output_type": "stream",
     "text": [
      "10\n",
      "9\n",
      "x = 19\n"
     ]
    }
   ],
   "source": [
    "#Atividades do uri online\n",
    "a = int(input())\n",
    "b = int(input())\n",
    "x = a + b\n",
    "print(\"x = %d\" %x)"
   ]
  },
  {
   "cell_type": "markdown",
   "metadata": {},
   "source": [
    " fórmula para calcular a área de uma circunferência é definida como A = π. R 2 . Considerando este problema que π = 3,14159 :"
   ]
  },
  {
   "cell_type": "code",
   "execution_count": 12,
   "metadata": {},
   "outputs": [
    {
     "name": "stdout",
     "output_type": "stream",
     "text": [
      "1.0\n",
      "A=3.1416\n"
     ]
    }
   ],
   "source": [
    "r = float(input())\n",
    "a = (r*r) * 3.14159\n",
    "print(\"A=%0.4f\" %a)\n"
   ]
  },
  {
   "cell_type": "code",
   "execution_count": 11,
   "metadata": {},
   "outputs": [
    {
     "name": "stdout",
     "output_type": "stream",
     "text": [
      "150.00\n",
      "A=70685.7750\n"
     ]
    }
   ],
   "source": [
    "r = float(input())\n",
    "a = (r*r) * 3.14159\n",
    "print(\"A=%0.4f\" %a)\n"
   ]
  },
  {
   "cell_type": "code",
   "execution_count": 21,
   "metadata": {},
   "outputs": [
    {
     "name": "stdout",
     "output_type": "stream",
     "text": [
      "30\n",
      "10\n",
      "SOMA = 40\n"
     ]
    }
   ],
   "source": [
    "A = int(input())\n",
    "B = int(input())\n",
    "SOMA = A + B\n",
    "print(\"SOMA = %d\" %SOMA)"
   ]
  },
  {
   "cell_type": "code",
   "execution_count": 22,
   "metadata": {},
   "outputs": [
    {
     "name": "stdout",
     "output_type": "stream",
     "text": [
      "-30\n",
      "10\n",
      "SOMA = -20\n"
     ]
    }
   ],
   "source": [
    "A = int(input())\n",
    "B = int(input())\n",
    "SOMA = A + B\n",
    "print(\"SOMA = %d\" %SOMA)"
   ]
  },
  {
   "cell_type": "code",
   "execution_count": 23,
   "metadata": {},
   "outputs": [
    {
     "name": "stdout",
     "output_type": "stream",
     "text": [
      "0\n",
      "0\n",
      "SOMA = 0\n"
     ]
    }
   ],
   "source": [
    "A = int(input())\n",
    "B = int(input())\n",
    "SOMA = A + B\n",
    "print(\"SOMA = %d\" %SOMA)"
   ]
  },
  {
   "cell_type": "code",
   "execution_count": 27,
   "metadata": {},
   "outputs": [
    {
     "name": "stdout",
     "output_type": "stream",
     "text": [
      "3\n",
      "9\n",
      "PROD = 27\n"
     ]
    }
   ],
   "source": [
    "A = int(input())\n",
    "B = int(input())\n",
    "PROD = A * B\n",
    "print(\"PROD = %d\" %PROD)"
   ]
  },
  {
   "cell_type": "code",
   "execution_count": 28,
   "metadata": {},
   "outputs": [
    {
     "name": "stdout",
     "output_type": "stream",
     "text": [
      "-30\n",
      "10\n",
      "PROD = -300\n"
     ]
    }
   ],
   "source": [
    "A = int(input())\n",
    "B = int(input())\n",
    "PROD = A * B\n",
    "print(\"PROD = %d\" %PROD)"
   ]
  },
  {
   "cell_type": "code",
   "execution_count": 31,
   "metadata": {},
   "outputs": [
    {
     "name": "stdout",
     "output_type": "stream",
     "text": [
      "0\n",
      "9\n",
      "PROD = 0\n"
     ]
    }
   ],
   "source": [
    "A = int(input())\n",
    "B = int(input())\n",
    "PROD = A * B\n",
    "print(\"PROD = %d\" %PROD)"
   ]
  },
  {
   "cell_type": "code",
   "execution_count": null,
   "metadata": {},
   "outputs": [],
   "source": [
    " A = 1\n",
    "print(A)"
   ]
  },
  {
   "cell_type": "code",
   "execution_count": 6,
   "metadata": {},
   "outputs": [
    {
     "name": "stdout",
     "output_type": "stream",
     "text": [
      "5.0\n",
      "7.1\n",
      "MEDIA = 6.43182\n"
     ]
    }
   ],
   "source": [
    "A = float(input())\n",
    "B = float(input())\n",
    "MEDIA =((A*3.5)+(B*7.5))/11\n",
    "print(\"MEDIA = %0.5F\" %MEDIA)"
   ]
  },
  {
   "cell_type": "code",
   "execution_count": 7,
   "metadata": {},
   "outputs": [
    {
     "name": "stdout",
     "output_type": "stream",
     "text": [
      "0.0\n",
      "7.1\n",
      "MEDIA = 4.84091\n"
     ]
    }
   ],
   "source": [
    "A = float(input())\n",
    "B = float(input())\n",
    "MEDIA =((A*3.5)+(B*7.5))/11\n",
    "print(\"MEDIA = %0.5F\" %MEDIA)"
   ]
  },
  {
   "cell_type": "code",
   "execution_count": 8,
   "metadata": {},
   "outputs": [
    {
     "name": "stdout",
     "output_type": "stream",
     "text": [
      "10.0\n",
      "10.0\n",
      "MEDIA = 10.00000\n"
     ]
    }
   ],
   "source": [
    "A = float(input())\n",
    "B = float(input())\n",
    "MEDIA =((A*3.5)+(B*7.5))/11\n",
    "print(\"MEDIA = %0.5F\" %MEDIA)"
   ]
  },
  {
   "cell_type": "code",
   "execution_count": 16,
   "metadata": {},
   "outputs": [
    {
     "name": "stdout",
     "output_type": "stream",
     "text": [
      "5.0\n",
      "6.0\n",
      "7.0\n",
      "MEDIA = 6.3\n"
     ]
    }
   ],
   "source": [
    "A = float(input())\n",
    "B = float(input())\n",
    "C = float(input())\n",
    "MEDIA = ((A*2)+(B*3)+(C*5))/10\n",
    "print(\"MEDIA = %0.1f\" %MEDIA)"
   ]
  },
  {
   "cell_type": "code",
   "execution_count": 17,
   "metadata": {},
   "outputs": [
    {
     "name": "stdout",
     "output_type": "stream",
     "text": [
      "5\n",
      "6\n",
      "7\n",
      "8\n",
      "DIFERENCA = -26\n"
     ]
    }
   ],
   "source": [
    "a = int(input())\n",
    "b = int(input())\n",
    "c = int(input())\n",
    "d = int(input())\n",
    "DIFERENCA = ((a*b)-(c*d))\n",
    "print(\"DIFERENCA = %d\" %DIFERENCA)"
   ]
  },
  {
   "cell_type": "code",
   "execution_count": 18,
   "metadata": {},
   "outputs": [
    {
     "name": "stdout",
     "output_type": "stream",
     "text": [
      "0\n",
      "0\n",
      "7\n",
      "8\n",
      "DIFERENCA = -56\n"
     ]
    }
   ],
   "source": [
    "a = int(input())\n",
    "b = int(input())\n",
    "c = int(input())\n",
    "d = int(input())\n",
    "DIFERENCA = ((a*b)-(c*d))\n",
    "print(\"DIFERENCA = %d\" %DIFERENCA)"
   ]
  },
  {
   "cell_type": "markdown",
   "metadata": {},
   "source": []
  },
  {
   "cell_type": "code",
   "execution_count": 19,
   "metadata": {},
   "outputs": [
    {
     "name": "stdout",
     "output_type": "stream",
     "text": [
      "5\n",
      "6\n",
      "-7\n",
      "8\n",
      "DIFERENCA = 86\n"
     ]
    }
   ],
   "source": [
    "a = int(input())\n",
    "b = int(input())\n",
    "c = int(input())\n",
    "d = int(input())\n",
    "DIFERENCA = ((a*b)-(c*d))\n",
    "print(\"DIFERENCA = %d\" %DIFERENCA)"
   ]
  },
  {
   "cell_type": "code",
   "execution_count": 21,
   "metadata": {},
   "outputs": [
    {
     "name": "stdout",
     "output_type": "stream",
     "text": [
      "25\n",
      "100\n",
      "5.50\n",
      "NUMERO = 25\n",
      "SALÁRIO = U $ 550.00\n"
     ]
    }
   ],
   "source": [
    "ndf = int(input())\n",
    "ht = int(input())\n",
    "vph = float(input())\n",
    "A = (ht*vph)\n",
    "print(\"NUMERO = %d\" %ndf)\n",
    "print(\"SALÁRIO = U $ %0.2f\" %A)\n"
   ]
  },
  {
   "cell_type": "code",
   "execution_count": 22,
   "metadata": {},
   "outputs": [
    {
     "name": "stdout",
     "output_type": "stream",
     "text": [
      "1\n",
      "200\n",
      "20.50\n",
      "NUMERO = 1\n",
      "SALÁRIO = U $ 4100.00\n"
     ]
    }
   ],
   "source": [
    "ndf = int(input())\n",
    "ht = int(input())\n",
    "vph = float(input())\n",
    "A = (ht*vph)\n",
    "print(\"NUMERO = %d\" %ndf)\n",
    "print(\"SALÁRIO = U $ %0.2f\" %A)\n"
   ]
  },
  {
   "cell_type": "code",
   "execution_count": 2,
   "metadata": {},
   "outputs": [
    {
     "name": "stdout",
     "output_type": "stream",
     "text": [
      "25\n",
      "100\n",
      "5.50\n",
      "NUMERO = 25\n",
      "SALÁRIO = U$ 550.00\n"
     ]
    }
   ],
   "source": [
    "ndf = int(input())\n",
    "ht = int(input())\n",
    "vph = float(input())\n",
    "A = (ht*vph)\n",
    "print(\"NUMERO = %d\" %ndf)\n",
    "print(\"SALÁRIO = U$ %1.2f\" %A)\n"
   ]
  },
  {
   "cell_type": "code",
   "execution_count": null,
   "metadata": {},
   "outputs": [],
   "source": []
  }
 ],
 "metadata": {
  "kernelspec": {
   "display_name": "Python 3",
   "language": "python",
   "name": "python3"
  },
  "language_info": {
   "codemirror_mode": {
    "name": "ipython",
    "version": 3
   },
   "file_extension": ".py",
   "mimetype": "text/x-python",
   "name": "python",
   "nbconvert_exporter": "python",
   "pygments_lexer": "ipython3",
   "version": "3.7.4"
  }
 },
 "nbformat": 4,
 "nbformat_minor": 2
}
