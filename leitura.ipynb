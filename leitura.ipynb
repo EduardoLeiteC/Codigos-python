{
 "cells": [
  {
   "cell_type": "code",
   "execution_count": 20,
   "metadata": {},
   "outputs": [],
   "source": [
    "def leitura1(a): \n",
    "    arquivo = open('texto1.txt')\n",
    "    b= arquivo.read()\n",
    "    return b.count(a)"
   ]
  },
  {
   "cell_type": "code",
   "execution_count": 19,
   "metadata": {},
   "outputs": [],
   "source": [
    "def leitura2(a): \n",
    "    arquivo = open('texto2.txt')\n",
    "    b= arquivo.read()\n",
    "    return b.count(a)"
   ]
  },
  {
   "cell_type": "code",
   "execution_count": 18,
   "metadata": {},
   "outputs": [],
   "source": [
    "def leitura3(a): \n",
    "    arquivo = open('texto3.txt')\n",
    "    b= arquivo.read()\n",
    "    return b.count(a)"
   ]
  },
  {
   "cell_type": "code",
   "execution_count": 17,
   "metadata": {},
   "outputs": [],
   "source": [
    "def leitura4(a): \n",
    "    arquivo = open('texto4.txt')\n",
    "    b= arquivo.read()\n",
    "    return b.count(a)"
   ]
  },
  {
   "cell_type": "code",
   "execution_count": null,
   "metadata": {},
   "outputs": [],
   "source": []
  }
 ],
 "metadata": {
  "kernelspec": {
   "display_name": "Python 3",
   "language": "python",
   "name": "python3"
  },
  "language_info": {
   "codemirror_mode": {
    "name": "ipython",
    "version": 3
   },
   "file_extension": ".py",
   "mimetype": "text/x-python",
   "name": "python",
   "nbconvert_exporter": "python",
   "pygments_lexer": "ipython3",
   "version": "3.7.4"
  }
 },
 "nbformat": 4,
 "nbformat_minor": 2
}
